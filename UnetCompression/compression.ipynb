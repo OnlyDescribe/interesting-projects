{
 "cells": [
  {
   "cell_type": "code",
   "execution_count": null,
   "metadata": {},
   "outputs": [],
   "source": [
    "import monai\n",
    "from monai.utils import first, set_determinism\n",
    "from monai.transforms import (Compose, LoadImaged, AddChanneld, Lambdad, Transpose, MapTransform, Activations, AsDiscrete, RandGaussianSmoothd, CropForegroundd, SpatialPadd, ScaleIntensityd, ToTensord, RandSpatialCropd, CenterSpatialCropd,\n",
    "                              Rand3DElasticd, RandAffined, RandZoomd, Spacingd, Orientationd, Resized, ThresholdIntensityd, RandShiftIntensityd, BorderPadd, RandGaussianNoised, RandAdjustContrastd, NormalizeIntensityd, RandFlipd, ScaleIntensityRanged, RandCropByPosNegLabeld)\n",
    "from my_transform import MyCrop\n",
    "from monai.data import CacheDataset, DataLoader, Dataset\n",
    "import torch\n",
    "import matplotlib.pyplot as plt\n",
    "import numpy as np\n",
    "import os\n",
    "import glob\n",
    "import pickle\n",
    "import sys\n",
    "\n",
    "# set_determinism(seed=0) # Set deterministic training for reproducibility\n",
    "num_workers = 0 if sys.platform.startswith('win32') else 4\n",
    "# torch.cuda.is_available()\n",
    "\n",
    "# Determine the training set and validation set used by the pretrained model\n",
    "with open(os.path.join(\"model\",\"3D\",'fold_1_batch_train_metric.pickle'), 'rb') as f:\n",
    "    # The protocol version used is detected automatically, so we do not\n",
    "    # have to specify it.\n",
    "    batch_metric = pickle.load(f)\n",
    "\n",
    "batch_metric['batch_train_loss'] = np.array(batch_metric['batch_train_loss'])\n",
    "\n",
    "for i,j in enumerate(batch_metric['batch_train_metric']):\n",
    "    batch_metric['batch_train_metric'][i] = j.cpu().numpy()\n",
    "batch_metric['batch_train_metric'] = np.array(batch_metric['batch_train_metric'])\n",
    "\n",
    "batch_filename = batch_metric['batch_filename']\n",
    "batch_train_loss = batch_metric['batch_train_loss']\n",
    "batch_train_metric = batch_metric['batch_train_metric']\n",
    "\n",
    "\n",
    "train_images = sorted(\n",
    "    glob.glob(os.path.join(\"data\", \"imagesTr\", \"*.nii.gz\")))\n",
    "# train_labels = sorted(\n",
    "#     glob.glob(os.path.join( \"labelsTr_modified\", \"*.nii.gz\")))\n",
    "train_labels = sorted(\n",
    "    glob.glob(os.path.join(\"data\", \"labelsTr\", \"*.nii.gz\")))\n",
    "\n",
    "data_dicts = [\n",
    "    {\"image\": image_name, \"label\": label_name}\n",
    "    for image_name, label_name in zip(train_images, train_labels)\n",
    "]\n",
    "\n",
    "train_files, val_files = np.array(data_dicts)[tuple([batch_train_metric>=0.85])].tolist(), np.array(data_dicts)[tuple([batch_train_metric<0.85])].tolist()\n",
    "train_files.__len__(),val_files.__len__()\n",
    "train_files, val_files = train_files[:2], val_files[:]\n",
    "\n",
    "patch_size, image_spacing = (224, 224, 40), (0.8, 0.8, 2.5)\n",
    "\n",
    "train_transforms = Compose(\n",
    "    [\n",
    "        LoadImaged(keys=['image', 'label']),\n",
    "        AddChanneld(keys=['image', 'label']),\n",
    "        Spacingd(keys=[\"image\", \"label\"], pixdim=image_spacing,\n",
    "                 mode=(\"bilinear\", \"nearest\")),\n",
    "        Orientationd(keys=[\"image\", \"label\"], axcodes=\"RAS\"),\n",
    "\n",
    "        # 灰度值阶段在[-96,215]之间\n",
    "        # ThresholdIntensityd(keys=['image'], threshold=-100, above=True, cval=-100),  # Threshold CT\n",
    "        # ThresholdIntensityd(keys=['image'], threshold=240, above=False, cval=240),\n",
    "\n",
    "        # NormalizeIntensityd(keys=['image']),                                          # augmentation\n",
    "        # ScaleIntensityd(keys=['image']),                                              # intensity\n",
    "        ScaleIntensityRanged(\n",
    "            keys=[\"image\"], a_min=-96, a_max=215,\n",
    "            b_min=0.0, b_max=1.0, clip=True),\n",
    "        # crop CropForeground\n",
    "        CropForegroundd(keys=['image', 'label'], source_key='image'),\n",
    "\n",
    "        # pad if the image is smaller than patch\n",
    "        SpatialPadd(keys=['image', 'label'],\n",
    "                    spatial_size=patch_size, method='end'),\n",
    "\n",
    "        # RandSpatialCropd(keys=['image', 'label'], roi_size=patch_size, random_size=False),\n",
    "        # CenterSpatialCropd(keys=['image', 'label'], roi_size=patch_size),\n",
    "        RandCropByPosNegLabeld(\n",
    "            keys=[\"image\", \"label\"],\n",
    "            label_key=\"label\",\n",
    "            spatial_size=patch_size,\n",
    "            pos=1,\n",
    "            neg=1,\n",
    "            num_samples=1,\n",
    "            image_key=\"image\",\n",
    "            image_threshold=0,\n",
    "        ),\n",
    "        Lambdad(keys=[\"image\", \"label\"],\n",
    "                func=lambda x:x.transpose(0, 3, 2, 1)),\n",
    "        ToTensord(keys=['image', 'label'])\n",
    "    ]\n",
    ")\n",
    "val_transforms = Compose(\n",
    "    [\n",
    "        LoadImaged(keys=['image', 'label']),\n",
    "        AddChanneld(keys=['image', 'label']),\n",
    "        Spacingd(keys=[\"image\", \"label\"], pixdim=image_spacing,\n",
    "                 mode=(\"bilinear\", \"nearest\")),\n",
    "        Orientationd(keys=[\"image\", \"label\"], axcodes=\"RAS\"),\n",
    "\n",
    "        ScaleIntensityRanged(\n",
    "            keys=[\"image\"], a_min=-96, a_max=215,\n",
    "            b_min=0.0, b_max=1.0, clip=True),\n",
    "\n",
    "        # crop CropForeground\n",
    "        # CropForegroundd(keys=['image', 'label'], source_key='label', select_fn=lambda x: x > 0, margin=100),\n",
    "\n",
    "        # CropForegroundd(keys=['image', 'label'], source_key='image'),\n",
    "        # SpatialPadd(keys=['image', 'label'],\n",
    "        #             spatial_size=patch_size, method='end'),\n",
    "\n",
    "        # Find where the tumor is located and crop the image\n",
    "        MyCrop(\n",
    "            keys=[\"image\", \"label\"],\n",
    "            source_key=\"label\",\n",
    "            select_fn=lambda x: x > 0, \n",
    "            margin=0,\n",
    "            spatial_size=patch_size,\n",
    "        ),\n",
    "\n",
    "        CenterSpatialCropd(keys=[\"image\", \"label\"],roi_size = patch_size),\n",
    "        SpatialPadd(keys=['image', 'label'], spatial_size=patch_size, method= 'end'),  # pad if the image is smaller than patch\n",
    "\n",
    "        Lambdad(keys=[\"image\", \"label\"],\n",
    "                func=lambda x:x.transpose(0, 3, 2, 1)),\n",
    "\n",
    "        ToTensord(keys=['image', 'label'])\n",
    "    ]\n",
    ")"
   ]
  },
  {
   "cell_type": "code",
   "execution_count": 2,
   "metadata": {},
   "outputs": [],
   "source": [
    "# train_ds = CacheDataset(\n",
    "#     data=train_files, transform=train_transforms,\n",
    "#     cache_rate=1, num_workers=6)\n",
    "train_ds = Dataset(\n",
    "    data=train_files, transform=train_transforms)\n",
    "train_loader = DataLoader(train_ds, batch_size=2, shuffle=True, num_workers=0,\n",
    "                          pin_memory=torch.cuda.is_available())\n",
    "\n",
    "\n",
    "# val_ds = CacheDataset(\n",
    "#     data=val_files, transform=val_transforms, \n",
    "#     cache_rate=1, num_workers=6)\n",
    "val_ds = Dataset(\n",
    "    data=val_files, transform=val_transforms)\n",
    "# val_ds = Dataset(\n",
    "#     data=val_files, transform=val_transforms)\n",
    "val_loader = DataLoader(val_ds, batch_size=1, num_workers=0,\n",
    "                        pin_memory=torch.cuda.is_available())"
   ]
  },
  {
   "cell_type": "markdown",
   "metadata": {},
   "source": [
    "# load model"
   ]
  },
  {
   "cell_type": "code",
   "execution_count": null,
   "metadata": {},
   "outputs": [],
   "source": [
    "from network_trainer import NetworkTrainer"
   ]
  },
  {
   "cell_type": "code",
   "execution_count": null,
   "metadata": {},
   "outputs": [],
   "source": [
    "continue_train = True\n",
    "using_pretrained = True\n",
    "modify=True\n",
    "num_classes=3\n",
    "\n",
    "if(continue_train != True):\n",
    "    final_epoch = -1\n",
    "    val_interval = 2\n",
    "    best_metric = -1\n",
    "    best_metric_epoch = -1\n",
    "    epoch_train_loss_all = []\n",
    "    epoch_val_loss_all = []\n",
    "    metric_all = []\n",
    "    lr = []\n",
    "    if using_pretrained:\n",
    "        preload = os.path.join('model', '3D', 'model_final_checkpoint.model')\n",
    "    else:\n",
    "        preload = os.path.join('results', 'best_metric_model_128.pth')\n",
    "\n",
    "else:\n",
    "    with open(os.path.join('settings', 'data_199.pickle'), 'rb') as f:\n",
    "        # The protocol version used is detected automatically, so we do not\n",
    "        # have to specify it.\n",
    "        data_0 = pickle.load(f)\n",
    "\n",
    "    final_epoch = data_0['final_epoch']\n",
    "    val_interval = data_0['val_interval']\n",
    "    best_metric = data_0['best_metric']\n",
    "    best_metric_epoch = data_0['best_metric_epoch']\n",
    "    epoch_train_loss_all = data_0['epoch_train_loss_all']\n",
    "    epoch_val_loss_all = data_0['epoch_val_loss_all']\n",
    "    metric_all = data_0['metric_all']\n",
    "    lr = data_0['lr']\n",
    "    if using_pretrained:\n",
    "        preload = os.path.join('model', '3D', 'model_final_checkpoint.model')\n",
    "    else:\n",
    "        preload = os.path.join('results', 'best_metric_model_128.pth')\n"
   ]
  },
  {
   "cell_type": "code",
   "execution_count": null,
   "metadata": {},
   "outputs": [],
   "source": [
    "import collections\n",
    "from collections import OrderedDict\n",
    "new_state_dict = OrderedDict()\n",
    "state_dict = torch.load(preload)['state_dict']\n",
    "\n",
    "for k, v in state_dict.items():\n",
    "    name = k \n",
    "    # skip\n",
    "    # if k[:11] == \"seg_outputs\" and k[12]!='4':\n",
    "    #     new_state_dict[name] = torch.zeros([j if i!=1 else j+32 for i,j in enumerate(v.shape)])\n",
    "    #     new_state_dict[name][:,:v.shape[1],:,:,:] = v\n",
    "    # else:\n",
    "    #     new_state_dict[name] = v\n",
    "\n",
    "    if k[:11] == \"seg_outputs\":\n",
    "        new_state_dict[name] = torch.zeros([j if i!=0 else num_classes for i,j in enumerate(v.shape)])\n",
    "        # print(name,new_state_dict[name].shape)\n",
    "        if num_classes==3:\n",
    "            new_state_dict[name][0] = v[0,:,:,:,:]\n",
    "            new_state_dict[name][1] = v[1,:,:,:,:]\n",
    "            new_state_dict[name][2] = v[2,:,:,:,:]\n",
    "        else:\n",
    "            new_state_dict[name][0] = v[0,:,:,:,:]\n",
    "            new_state_dict[name][1] = v[2,:,:,:,:] + v[1,:,:,:,:]\n",
    "    else:\n",
    "        new_state_dict[name] = v"
   ]
  },
  {
   "cell_type": "code",
   "execution_count": null,
   "metadata": {},
   "outputs": [
    {
     "name": "stdout",
     "output_type": "stream",
     "text": [
      "learning rate = 0.0007440\n",
      "model has been loaded\n"
     ]
    }
   ],
   "source": [
    "if torch.cuda.is_available():\n",
    "    torch.cuda.empty_cache()\n",
    "else:\n",
    "    print(\"WARNING!!! You are attempting to run training on a CPU (torch.cuda.is_available() is False). This can be VERY slow!\")\n",
    "\n",
    "Unet = NetworkTrainer(num_classes=num_classes, using_UNET_3D=True, epoch=final_epoch+1,deep_supervision=False)\n",
    "Unet.initialize()\n",
    "Unet.device = 'cpu'\n",
    "Unet.network.to(Unet.device);\n",
    "Unet.update_lr(epoch=final_epoch+1)\n",
    "\n",
    "if preload is not None:\n",
    "    # model.load_state_dict(torch.load(preload))\n",
    "    checkpoint = torch.load(preload)\n",
    "    if using_pretrained:\n",
    "        if modify==True:\n",
    "            Unet.load_state_dict(new_state_dict)\n",
    "        else:\n",
    "            Unet.load_state_dict(checkpoint['state_dict'])\n",
    "    else:\n",
    "        Unet.load_state_dict(checkpoint)\n"
   ]
  },
  {
   "cell_type": "markdown",
   "metadata": {},
   "source": [
    "# Compress model"
   ]
  },
  {
   "cell_type": "code",
   "execution_count": 8,
   "metadata": {},
   "outputs": [],
   "source": [
    "from copy import deepcopy\n",
    "import torch\n",
    "import os\n",
    "import collections\n",
    "from collections import OrderedDict\n",
    "import tensorly as tl\n",
    "import numpy as np\n",
    "from tensorly.tt_tensor import validate_tt_rank, TTTensor\n",
    "\n",
    "def cal_model_size(new_state_dict):\n",
    "    size = 0\n",
    "    for key,value in new_state_dict.items():\n",
    "        if type(value) == collections.OrderedDict:\n",
    "            for key,value in value.items():\n",
    "                size += value.nelement() * value.element_size()\n",
    "                print(value.nelement())\n",
    "        elif type(value) == list:\n",
    "            for i in value:\n",
    "                size += i.nelement() * i.element_size()\n",
    "        else:\n",
    "            size += value.nelement() * value.element_size()\n",
    "    return size\n",
    "checkpoint = torch.load(os.path.join('model', '3D', 'model_final_checkpoint.model'))['state_dict']\n"
   ]
  },
  {
   "cell_type": "code",
   "execution_count": 12,
   "metadata": {},
   "outputs": [
    {
     "name": "stdout",
     "output_type": "stream",
     "text": [
      "4\n"
     ]
    },
    {
     "data": {
      "text/plain": [
       "123035136"
      ]
     },
     "execution_count": 12,
     "metadata": {},
     "output_type": "execute_result"
    }
   ],
   "source": [
    "for key,value in checkpoint.items():\n",
    "    print(value.element_size())\n",
    "    break\n",
    "cal_model_size(checkpoint)"
   ]
  },
  {
   "cell_type": "code",
   "execution_count": 13,
   "metadata": {},
   "outputs": [
    {
     "data": {
      "text/plain": [
       "30758784.0"
      ]
     },
     "execution_count": 13,
     "metadata": {},
     "output_type": "execute_result"
    }
   ],
   "source": [
    "123035136/4"
   ]
  },
  {
   "cell_type": "markdown",
   "metadata": {},
   "source": [
    "# Test"
   ]
  },
  {
   "cell_type": "code",
   "execution_count": 7,
   "metadata": {},
   "outputs": [],
   "source": [
    "# from plot import test_plot_2,test_plot,plot\n",
    "\n",
    "test_val_data = first(val_loader)\n",
    "# test_train_data = first(train_loader)\n",
    "val_image = test_val_data[\"image\"]\n",
    "# train_image = test_train_data[\"image\"]\n",
    "val_label = test_val_data[\"label\"]\n",
    "# train_label = test_train_data[\"label\"]"
   ]
  },
  {
   "cell_type": "code",
   "execution_count": 7,
   "metadata": {},
   "outputs": [
    {
     "name": "stderr",
     "output_type": "stream",
     "text": [
      "You are using an old version of PyTorch (1.7.1). We recommend upgrading to a newest one, e.g. >1.8.0.\n"
     ]
    }
   ],
   "source": [
    "from copy import deepcopy\n",
    "from loss_functions.dice_loss import SoftDiceLoss\n",
    "from torch import nn\n",
    "from my_compress import convert_numpy,cal_model_size,compress_conv_,compress_conv,compress,my_tensor_train,compress_conv_tt_,compress_conv_tt\n",
    "import tensorly as tl\n",
    "\n",
    "tl.set_backend('pytorch')\n",
    "\n",
    "calculate_dice = SoftDiceLoss(apply_nonlin=lambda x: nn.functional.softmax(\n",
    "    x, 1), batch_dice=True, do_bg=False, smooth=1e-5)\n",
    "device = Unet.device\n",
    "\n",
    "checkpoint = torch.load(os.path.join('model', '3D', 'model_final_checkpoint.model'))['state_dict']\n",
    "# to_save = compress_conv(checkpoint,compress_rate=0.6);"
   ]
  },
  {
   "cell_type": "code",
   "execution_count": 17,
   "metadata": {},
   "outputs": [
    {
     "name": "stdout",
     "output_type": "stream",
     "text": [
      "model has been loaded\n",
      "finish ['data\\\\imagesTr\\\\pancreas_021.nii.gz'] 0.3\n",
      "finish ['data\\\\imagesTr\\\\pancreas_024.nii.gz'] 0.3\n",
      "finish ['data\\\\imagesTr\\\\pancreas_035.nii.gz'] 0.3\n",
      "finish ['data\\\\imagesTr\\\\pancreas_040.nii.gz'] 0.3\n",
      "finish ['data\\\\imagesTr\\\\pancreas_042.nii.gz'] 0.3\n",
      "finish ['data\\\\imagesTr\\\\pancreas_043.nii.gz'] 0.3\n",
      "finish ['data\\\\imagesTr\\\\pancreas_056.nii.gz'] 0.3\n",
      "finish ['data\\\\imagesTr\\\\pancreas_086.nii.gz'] 0.3\n",
      "finish ['data\\\\imagesTr\\\\pancreas_089.nii.gz'] 0.3\n",
      "finish ['data\\\\imagesTr\\\\pancreas_092.nii.gz'] 0.3\n",
      "finish ['data\\\\imagesTr\\\\pancreas_094.nii.gz'] 0.3\n",
      "finish ['data\\\\imagesTr\\\\pancreas_095.nii.gz'] 0.3\n",
      "finish ['data\\\\imagesTr\\\\pancreas_098.nii.gz'] 0.3\n",
      "finish ['data\\\\imagesTr\\\\pancreas_109.nii.gz'] 0.3\n",
      "finish ['data\\\\imagesTr\\\\pancreas_110.nii.gz'] 0.3\n",
      "finish ['data\\\\imagesTr\\\\pancreas_111.nii.gz'] 0.3\n",
      "finish ['data\\\\imagesTr\\\\pancreas_114.nii.gz'] 0.3\n",
      "finish ['data\\\\imagesTr\\\\pancreas_119.nii.gz'] 0.3\n",
      "finish ['data\\\\imagesTr\\\\pancreas_138.nii.gz'] 0.3\n",
      "finish ['data\\\\imagesTr\\\\pancreas_140.nii.gz'] 0.3\n",
      "finish ['data\\\\imagesTr\\\\pancreas_145.nii.gz'] 0.3\n",
      "finish ['data\\\\imagesTr\\\\pancreas_148.nii.gz'] 0.3\n",
      "finish ['data\\\\imagesTr\\\\pancreas_169.nii.gz'] 0.3\n",
      "finish ['data\\\\imagesTr\\\\pancreas_170.nii.gz'] 0.3\n",
      "finish ['data\\\\imagesTr\\\\pancreas_172.nii.gz'] 0.3\n",
      "finish ['data\\\\imagesTr\\\\pancreas_175.nii.gz'] 0.3\n",
      "finish ['data\\\\imagesTr\\\\pancreas_180.nii.gz'] 0.3\n",
      "finish ['data\\\\imagesTr\\\\pancreas_186.nii.gz'] 0.3\n",
      "finish ['data\\\\imagesTr\\\\pancreas_191.nii.gz'] 0.3\n",
      "finish ['data\\\\imagesTr\\\\pancreas_193.nii.gz'] 0.3\n",
      "finish ['data\\\\imagesTr\\\\pancreas_200.nii.gz'] 0.3\n",
      "finish ['data\\\\imagesTr\\\\pancreas_212.nii.gz'] 0.3\n",
      "finish ['data\\\\imagesTr\\\\pancreas_215.nii.gz'] 0.3\n",
      "finish ['data\\\\imagesTr\\\\pancreas_222.nii.gz'] 0.3\n",
      "finish ['data\\\\imagesTr\\\\pancreas_235.nii.gz'] 0.3\n",
      "finish ['data\\\\imagesTr\\\\pancreas_241.nii.gz'] 0.3\n",
      "finish ['data\\\\imagesTr\\\\pancreas_242.nii.gz'] 0.3\n",
      "finish ['data\\\\imagesTr\\\\pancreas_244.nii.gz'] 0.3\n",
      "finish ['data\\\\imagesTr\\\\pancreas_246.nii.gz'] 0.3\n",
      "finish ['data\\\\imagesTr\\\\pancreas_247.nii.gz'] 0.3\n",
      "finish ['data\\\\imagesTr\\\\pancreas_264.nii.gz'] 0.3\n",
      "finish ['data\\\\imagesTr\\\\pancreas_265.nii.gz'] 0.3\n",
      "finish ['data\\\\imagesTr\\\\pancreas_266.nii.gz'] 0.3\n",
      "finish ['data\\\\imagesTr\\\\pancreas_267.nii.gz'] 0.3\n",
      "finish ['data\\\\imagesTr\\\\pancreas_274.nii.gz'] 0.3\n",
      "finish ['data\\\\imagesTr\\\\pancreas_275.nii.gz'] 0.3\n",
      "finish ['data\\\\imagesTr\\\\pancreas_279.nii.gz'] 0.3\n",
      "finish ['data\\\\imagesTr\\\\pancreas_287.nii.gz'] 0.3\n",
      "finish ['data\\\\imagesTr\\\\pancreas_296.nii.gz'] 0.3\n",
      "finish ['data\\\\imagesTr\\\\pancreas_301.nii.gz'] 0.3\n",
      "finish ['data\\\\imagesTr\\\\pancreas_323.nii.gz'] 0.3\n",
      "finish ['data\\\\imagesTr\\\\pancreas_336.nii.gz'] 0.3\n",
      "finish ['data\\\\imagesTr\\\\pancreas_344.nii.gz'] 0.3\n",
      "finish ['data\\\\imagesTr\\\\pancreas_351.nii.gz'] 0.3\n",
      "finish ['data\\\\imagesTr\\\\pancreas_354.nii.gz'] 0.3\n",
      "finish ['data\\\\imagesTr\\\\pancreas_360.nii.gz'] 0.3\n",
      "finish ['data\\\\imagesTr\\\\pancreas_372.nii.gz'] 0.3\n",
      "finish ['data\\\\imagesTr\\\\pancreas_377.nii.gz'] 0.3\n",
      "finish ['data\\\\imagesTr\\\\pancreas_387.nii.gz'] 0.3\n",
      "finish ['data\\\\imagesTr\\\\pancreas_388.nii.gz'] 0.3\n",
      "finish ['data\\\\imagesTr\\\\pancreas_391.nii.gz'] 0.3\n",
      "finish ['data\\\\imagesTr\\\\pancreas_392.nii.gz'] 0.3\n",
      "finish ['data\\\\imagesTr\\\\pancreas_410.nii.gz'] 0.3\n",
      "finish ['data\\\\imagesTr\\\\pancreas_412.nii.gz'] 0.3\n",
      "finish ['data\\\\imagesTr\\\\pancreas_415.nii.gz'] 0.3\n",
      "finish ['data\\\\imagesTr\\\\pancreas_416.nii.gz'] 0.3\n",
      "finish ['data\\\\imagesTr\\\\pancreas_418.nii.gz'] 0.3\n",
      "model has been loaded\n",
      "finish ['data\\\\imagesTr\\\\pancreas_021.nii.gz'] 0.2\n",
      "finish ['data\\\\imagesTr\\\\pancreas_024.nii.gz'] 0.2\n",
      "finish ['data\\\\imagesTr\\\\pancreas_035.nii.gz'] 0.2\n",
      "finish ['data\\\\imagesTr\\\\pancreas_040.nii.gz'] 0.2\n",
      "finish ['data\\\\imagesTr\\\\pancreas_042.nii.gz'] 0.2\n",
      "finish ['data\\\\imagesTr\\\\pancreas_043.nii.gz'] 0.2\n",
      "finish ['data\\\\imagesTr\\\\pancreas_056.nii.gz'] 0.2\n",
      "finish ['data\\\\imagesTr\\\\pancreas_086.nii.gz'] 0.2\n",
      "finish ['data\\\\imagesTr\\\\pancreas_089.nii.gz'] 0.2\n",
      "finish ['data\\\\imagesTr\\\\pancreas_092.nii.gz'] 0.2\n",
      "finish ['data\\\\imagesTr\\\\pancreas_094.nii.gz'] 0.2\n",
      "finish ['data\\\\imagesTr\\\\pancreas_095.nii.gz'] 0.2\n",
      "finish ['data\\\\imagesTr\\\\pancreas_098.nii.gz'] 0.2\n",
      "finish ['data\\\\imagesTr\\\\pancreas_109.nii.gz'] 0.2\n",
      "finish ['data\\\\imagesTr\\\\pancreas_110.nii.gz'] 0.2\n",
      "finish ['data\\\\imagesTr\\\\pancreas_111.nii.gz'] 0.2\n",
      "finish ['data\\\\imagesTr\\\\pancreas_114.nii.gz'] 0.2\n",
      "finish ['data\\\\imagesTr\\\\pancreas_119.nii.gz'] 0.2\n",
      "finish ['data\\\\imagesTr\\\\pancreas_138.nii.gz'] 0.2\n",
      "finish ['data\\\\imagesTr\\\\pancreas_140.nii.gz'] 0.2\n",
      "finish ['data\\\\imagesTr\\\\pancreas_145.nii.gz'] 0.2\n",
      "finish ['data\\\\imagesTr\\\\pancreas_148.nii.gz'] 0.2\n",
      "finish ['data\\\\imagesTr\\\\pancreas_169.nii.gz'] 0.2\n",
      "finish ['data\\\\imagesTr\\\\pancreas_170.nii.gz'] 0.2\n",
      "finish ['data\\\\imagesTr\\\\pancreas_172.nii.gz'] 0.2\n",
      "finish ['data\\\\imagesTr\\\\pancreas_175.nii.gz'] 0.2\n",
      "finish ['data\\\\imagesTr\\\\pancreas_180.nii.gz'] 0.2\n",
      "finish ['data\\\\imagesTr\\\\pancreas_186.nii.gz'] 0.2\n",
      "finish ['data\\\\imagesTr\\\\pancreas_191.nii.gz'] 0.2\n",
      "finish ['data\\\\imagesTr\\\\pancreas_193.nii.gz'] 0.2\n",
      "finish ['data\\\\imagesTr\\\\pancreas_200.nii.gz'] 0.2\n",
      "finish ['data\\\\imagesTr\\\\pancreas_212.nii.gz'] 0.2\n",
      "finish ['data\\\\imagesTr\\\\pancreas_215.nii.gz'] 0.2\n",
      "finish ['data\\\\imagesTr\\\\pancreas_222.nii.gz'] 0.2\n",
      "finish ['data\\\\imagesTr\\\\pancreas_235.nii.gz'] 0.2\n",
      "finish ['data\\\\imagesTr\\\\pancreas_241.nii.gz'] 0.2\n",
      "finish ['data\\\\imagesTr\\\\pancreas_242.nii.gz'] 0.2\n",
      "finish ['data\\\\imagesTr\\\\pancreas_244.nii.gz'] 0.2\n",
      "finish ['data\\\\imagesTr\\\\pancreas_246.nii.gz'] 0.2\n",
      "finish ['data\\\\imagesTr\\\\pancreas_247.nii.gz'] 0.2\n",
      "finish ['data\\\\imagesTr\\\\pancreas_264.nii.gz'] 0.2\n",
      "finish ['data\\\\imagesTr\\\\pancreas_265.nii.gz'] 0.2\n",
      "finish ['data\\\\imagesTr\\\\pancreas_266.nii.gz'] 0.2\n",
      "finish ['data\\\\imagesTr\\\\pancreas_267.nii.gz'] 0.2\n",
      "finish ['data\\\\imagesTr\\\\pancreas_274.nii.gz'] 0.2\n",
      "finish ['data\\\\imagesTr\\\\pancreas_275.nii.gz'] 0.2\n",
      "finish ['data\\\\imagesTr\\\\pancreas_279.nii.gz'] 0.2\n",
      "finish ['data\\\\imagesTr\\\\pancreas_287.nii.gz'] 0.2\n",
      "finish ['data\\\\imagesTr\\\\pancreas_296.nii.gz'] 0.2\n",
      "finish ['data\\\\imagesTr\\\\pancreas_301.nii.gz'] 0.2\n",
      "finish ['data\\\\imagesTr\\\\pancreas_323.nii.gz'] 0.2\n",
      "finish ['data\\\\imagesTr\\\\pancreas_336.nii.gz'] 0.2\n",
      "finish ['data\\\\imagesTr\\\\pancreas_344.nii.gz'] 0.2\n",
      "finish ['data\\\\imagesTr\\\\pancreas_351.nii.gz'] 0.2\n",
      "finish ['data\\\\imagesTr\\\\pancreas_354.nii.gz'] 0.2\n",
      "finish ['data\\\\imagesTr\\\\pancreas_360.nii.gz'] 0.2\n",
      "finish ['data\\\\imagesTr\\\\pancreas_372.nii.gz'] 0.2\n",
      "finish ['data\\\\imagesTr\\\\pancreas_377.nii.gz'] 0.2\n",
      "finish ['data\\\\imagesTr\\\\pancreas_387.nii.gz'] 0.2\n",
      "finish ['data\\\\imagesTr\\\\pancreas_388.nii.gz'] 0.2\n",
      "finish ['data\\\\imagesTr\\\\pancreas_391.nii.gz'] 0.2\n",
      "finish ['data\\\\imagesTr\\\\pancreas_392.nii.gz'] 0.2\n",
      "finish ['data\\\\imagesTr\\\\pancreas_410.nii.gz'] 0.2\n",
      "finish ['data\\\\imagesTr\\\\pancreas_412.nii.gz'] 0.2\n",
      "finish ['data\\\\imagesTr\\\\pancreas_415.nii.gz'] 0.2\n",
      "finish ['data\\\\imagesTr\\\\pancreas_416.nii.gz'] 0.2\n",
      "finish ['data\\\\imagesTr\\\\pancreas_418.nii.gz'] 0.2\n",
      "model has been loaded\n",
      "finish ['data\\\\imagesTr\\\\pancreas_021.nii.gz'] 0.1\n",
      "finish ['data\\\\imagesTr\\\\pancreas_024.nii.gz'] 0.1\n",
      "finish ['data\\\\imagesTr\\\\pancreas_035.nii.gz'] 0.1\n",
      "finish ['data\\\\imagesTr\\\\pancreas_040.nii.gz'] 0.1\n",
      "finish ['data\\\\imagesTr\\\\pancreas_042.nii.gz'] 0.1\n",
      "finish ['data\\\\imagesTr\\\\pancreas_043.nii.gz'] 0.1\n",
      "finish ['data\\\\imagesTr\\\\pancreas_056.nii.gz'] 0.1\n",
      "finish ['data\\\\imagesTr\\\\pancreas_086.nii.gz'] 0.1\n",
      "finish ['data\\\\imagesTr\\\\pancreas_089.nii.gz'] 0.1\n",
      "finish ['data\\\\imagesTr\\\\pancreas_092.nii.gz'] 0.1\n",
      "finish ['data\\\\imagesTr\\\\pancreas_094.nii.gz'] 0.1\n",
      "finish ['data\\\\imagesTr\\\\pancreas_095.nii.gz'] 0.1\n",
      "finish ['data\\\\imagesTr\\\\pancreas_098.nii.gz'] 0.1\n",
      "finish ['data\\\\imagesTr\\\\pancreas_109.nii.gz'] 0.1\n",
      "finish ['data\\\\imagesTr\\\\pancreas_110.nii.gz'] 0.1\n",
      "finish ['data\\\\imagesTr\\\\pancreas_111.nii.gz'] 0.1\n",
      "finish ['data\\\\imagesTr\\\\pancreas_114.nii.gz'] 0.1\n",
      "finish ['data\\\\imagesTr\\\\pancreas_119.nii.gz'] 0.1\n",
      "finish ['data\\\\imagesTr\\\\pancreas_138.nii.gz'] 0.1\n",
      "finish ['data\\\\imagesTr\\\\pancreas_140.nii.gz'] 0.1\n",
      "finish ['data\\\\imagesTr\\\\pancreas_145.nii.gz'] 0.1\n",
      "finish ['data\\\\imagesTr\\\\pancreas_148.nii.gz'] 0.1\n",
      "finish ['data\\\\imagesTr\\\\pancreas_169.nii.gz'] 0.1\n",
      "finish ['data\\\\imagesTr\\\\pancreas_170.nii.gz'] 0.1\n",
      "finish ['data\\\\imagesTr\\\\pancreas_172.nii.gz'] 0.1\n",
      "finish ['data\\\\imagesTr\\\\pancreas_175.nii.gz'] 0.1\n",
      "finish ['data\\\\imagesTr\\\\pancreas_180.nii.gz'] 0.1\n",
      "finish ['data\\\\imagesTr\\\\pancreas_186.nii.gz'] 0.1\n",
      "finish ['data\\\\imagesTr\\\\pancreas_191.nii.gz'] 0.1\n",
      "finish ['data\\\\imagesTr\\\\pancreas_193.nii.gz'] 0.1\n",
      "finish ['data\\\\imagesTr\\\\pancreas_200.nii.gz'] 0.1\n",
      "finish ['data\\\\imagesTr\\\\pancreas_212.nii.gz'] 0.1\n",
      "finish ['data\\\\imagesTr\\\\pancreas_215.nii.gz'] 0.1\n",
      "finish ['data\\\\imagesTr\\\\pancreas_222.nii.gz'] 0.1\n",
      "finish ['data\\\\imagesTr\\\\pancreas_235.nii.gz'] 0.1\n",
      "finish ['data\\\\imagesTr\\\\pancreas_241.nii.gz'] 0.1\n",
      "finish ['data\\\\imagesTr\\\\pancreas_242.nii.gz'] 0.1\n",
      "finish ['data\\\\imagesTr\\\\pancreas_244.nii.gz'] 0.1\n",
      "finish ['data\\\\imagesTr\\\\pancreas_246.nii.gz'] 0.1\n",
      "finish ['data\\\\imagesTr\\\\pancreas_247.nii.gz'] 0.1\n",
      "finish ['data\\\\imagesTr\\\\pancreas_264.nii.gz'] 0.1\n",
      "finish ['data\\\\imagesTr\\\\pancreas_265.nii.gz'] 0.1\n",
      "finish ['data\\\\imagesTr\\\\pancreas_266.nii.gz'] 0.1\n",
      "finish ['data\\\\imagesTr\\\\pancreas_267.nii.gz'] 0.1\n",
      "finish ['data\\\\imagesTr\\\\pancreas_274.nii.gz'] 0.1\n",
      "finish ['data\\\\imagesTr\\\\pancreas_275.nii.gz'] 0.1\n",
      "finish ['data\\\\imagesTr\\\\pancreas_279.nii.gz'] 0.1\n",
      "finish ['data\\\\imagesTr\\\\pancreas_287.nii.gz'] 0.1\n",
      "finish ['data\\\\imagesTr\\\\pancreas_296.nii.gz'] 0.1\n",
      "finish ['data\\\\imagesTr\\\\pancreas_301.nii.gz'] 0.1\n",
      "finish ['data\\\\imagesTr\\\\pancreas_323.nii.gz'] 0.1\n",
      "finish ['data\\\\imagesTr\\\\pancreas_336.nii.gz'] 0.1\n",
      "finish ['data\\\\imagesTr\\\\pancreas_344.nii.gz'] 0.1\n",
      "finish ['data\\\\imagesTr\\\\pancreas_351.nii.gz'] 0.1\n",
      "finish ['data\\\\imagesTr\\\\pancreas_354.nii.gz'] 0.1\n",
      "finish ['data\\\\imagesTr\\\\pancreas_360.nii.gz'] 0.1\n",
      "finish ['data\\\\imagesTr\\\\pancreas_372.nii.gz'] 0.1\n",
      "finish ['data\\\\imagesTr\\\\pancreas_377.nii.gz'] 0.1\n",
      "finish ['data\\\\imagesTr\\\\pancreas_387.nii.gz'] 0.1\n",
      "finish ['data\\\\imagesTr\\\\pancreas_388.nii.gz'] 0.1\n",
      "finish ['data\\\\imagesTr\\\\pancreas_391.nii.gz'] 0.1\n",
      "finish ['data\\\\imagesTr\\\\pancreas_392.nii.gz'] 0.1\n",
      "finish ['data\\\\imagesTr\\\\pancreas_410.nii.gz'] 0.1\n",
      "finish ['data\\\\imagesTr\\\\pancreas_412.nii.gz'] 0.1\n",
      "finish ['data\\\\imagesTr\\\\pancreas_415.nii.gz'] 0.1\n",
      "finish ['data\\\\imagesTr\\\\pancreas_416.nii.gz'] 0.1\n",
      "finish ['data\\\\imagesTr\\\\pancreas_418.nii.gz'] 0.1\n",
      "model has been loaded\n",
      "finish ['data\\\\imagesTr\\\\pancreas_021.nii.gz'] 0.0\n",
      "finish ['data\\\\imagesTr\\\\pancreas_024.nii.gz'] 0.0\n",
      "finish ['data\\\\imagesTr\\\\pancreas_035.nii.gz'] 0.0\n",
      "finish ['data\\\\imagesTr\\\\pancreas_040.nii.gz'] 0.0\n",
      "finish ['data\\\\imagesTr\\\\pancreas_042.nii.gz'] 0.0\n",
      "finish ['data\\\\imagesTr\\\\pancreas_043.nii.gz'] 0.0\n",
      "finish ['data\\\\imagesTr\\\\pancreas_056.nii.gz'] 0.0\n",
      "finish ['data\\\\imagesTr\\\\pancreas_086.nii.gz'] 0.0\n",
      "finish ['data\\\\imagesTr\\\\pancreas_089.nii.gz'] 0.0\n",
      "finish ['data\\\\imagesTr\\\\pancreas_092.nii.gz'] 0.0\n",
      "finish ['data\\\\imagesTr\\\\pancreas_094.nii.gz'] 0.0\n",
      "finish ['data\\\\imagesTr\\\\pancreas_095.nii.gz'] 0.0\n",
      "finish ['data\\\\imagesTr\\\\pancreas_098.nii.gz'] 0.0\n",
      "finish ['data\\\\imagesTr\\\\pancreas_109.nii.gz'] 0.0\n",
      "finish ['data\\\\imagesTr\\\\pancreas_110.nii.gz'] 0.0\n",
      "finish ['data\\\\imagesTr\\\\pancreas_111.nii.gz'] 0.0\n",
      "finish ['data\\\\imagesTr\\\\pancreas_114.nii.gz'] 0.0\n",
      "finish ['data\\\\imagesTr\\\\pancreas_119.nii.gz'] 0.0\n",
      "finish ['data\\\\imagesTr\\\\pancreas_138.nii.gz'] 0.0\n",
      "finish ['data\\\\imagesTr\\\\pancreas_140.nii.gz'] 0.0\n",
      "finish ['data\\\\imagesTr\\\\pancreas_145.nii.gz'] 0.0\n",
      "finish ['data\\\\imagesTr\\\\pancreas_148.nii.gz'] 0.0\n",
      "finish ['data\\\\imagesTr\\\\pancreas_169.nii.gz'] 0.0\n",
      "finish ['data\\\\imagesTr\\\\pancreas_170.nii.gz'] 0.0\n",
      "finish ['data\\\\imagesTr\\\\pancreas_172.nii.gz'] 0.0\n",
      "finish ['data\\\\imagesTr\\\\pancreas_175.nii.gz'] 0.0\n",
      "finish ['data\\\\imagesTr\\\\pancreas_180.nii.gz'] 0.0\n",
      "finish ['data\\\\imagesTr\\\\pancreas_186.nii.gz'] 0.0\n",
      "finish ['data\\\\imagesTr\\\\pancreas_191.nii.gz'] 0.0\n",
      "finish ['data\\\\imagesTr\\\\pancreas_193.nii.gz'] 0.0\n",
      "finish ['data\\\\imagesTr\\\\pancreas_200.nii.gz'] 0.0\n",
      "finish ['data\\\\imagesTr\\\\pancreas_212.nii.gz'] 0.0\n",
      "finish ['data\\\\imagesTr\\\\pancreas_215.nii.gz'] 0.0\n",
      "finish ['data\\\\imagesTr\\\\pancreas_222.nii.gz'] 0.0\n",
      "finish ['data\\\\imagesTr\\\\pancreas_235.nii.gz'] 0.0\n",
      "finish ['data\\\\imagesTr\\\\pancreas_241.nii.gz'] 0.0\n",
      "finish ['data\\\\imagesTr\\\\pancreas_242.nii.gz'] 0.0\n",
      "finish ['data\\\\imagesTr\\\\pancreas_244.nii.gz'] 0.0\n",
      "finish ['data\\\\imagesTr\\\\pancreas_246.nii.gz'] 0.0\n",
      "finish ['data\\\\imagesTr\\\\pancreas_247.nii.gz'] 0.0\n",
      "finish ['data\\\\imagesTr\\\\pancreas_264.nii.gz'] 0.0\n",
      "finish ['data\\\\imagesTr\\\\pancreas_265.nii.gz'] 0.0\n",
      "finish ['data\\\\imagesTr\\\\pancreas_266.nii.gz'] 0.0\n",
      "finish ['data\\\\imagesTr\\\\pancreas_267.nii.gz'] 0.0\n",
      "finish ['data\\\\imagesTr\\\\pancreas_274.nii.gz'] 0.0\n",
      "finish ['data\\\\imagesTr\\\\pancreas_275.nii.gz'] 0.0\n",
      "finish ['data\\\\imagesTr\\\\pancreas_279.nii.gz'] 0.0\n",
      "finish ['data\\\\imagesTr\\\\pancreas_287.nii.gz'] 0.0\n",
      "finish ['data\\\\imagesTr\\\\pancreas_296.nii.gz'] 0.0\n",
      "finish ['data\\\\imagesTr\\\\pancreas_301.nii.gz'] 0.0\n",
      "finish ['data\\\\imagesTr\\\\pancreas_323.nii.gz'] 0.0\n",
      "finish ['data\\\\imagesTr\\\\pancreas_336.nii.gz'] 0.0\n",
      "finish ['data\\\\imagesTr\\\\pancreas_344.nii.gz'] 0.0\n",
      "finish ['data\\\\imagesTr\\\\pancreas_351.nii.gz'] 0.0\n",
      "finish ['data\\\\imagesTr\\\\pancreas_354.nii.gz'] 0.0\n",
      "finish ['data\\\\imagesTr\\\\pancreas_360.nii.gz'] 0.0\n",
      "finish ['data\\\\imagesTr\\\\pancreas_372.nii.gz'] 0.0\n",
      "finish ['data\\\\imagesTr\\\\pancreas_377.nii.gz'] 0.0\n",
      "finish ['data\\\\imagesTr\\\\pancreas_387.nii.gz'] 0.0\n",
      "finish ['data\\\\imagesTr\\\\pancreas_388.nii.gz'] 0.0\n",
      "finish ['data\\\\imagesTr\\\\pancreas_391.nii.gz'] 0.0\n",
      "finish ['data\\\\imagesTr\\\\pancreas_392.nii.gz'] 0.0\n",
      "finish ['data\\\\imagesTr\\\\pancreas_410.nii.gz'] 0.0\n",
      "finish ['data\\\\imagesTr\\\\pancreas_412.nii.gz'] 0.0\n",
      "finish ['data\\\\imagesTr\\\\pancreas_415.nii.gz'] 0.0\n",
      "finish ['data\\\\imagesTr\\\\pancreas_416.nii.gz'] 0.0\n",
      "finish ['data\\\\imagesTr\\\\pancreas_418.nii.gz'] 0.0\n"
     ]
    }
   ],
   "source": [
    "tl.set_backend('pytorch')\n",
    "checkpoint = torch.load(os.path.join('model', '3D', 'model_final_checkpoint.model'))['state_dict']\n",
    "\n",
    "dice_svd = compress_svd['dice_svd']\n",
    "model_size_svd = []\n",
    "\n",
    "for compress_rate in np.array(range(3,-1,-1))/10:\n",
    "    comressed_checkpoint_ = compress_conv_(checkpoint,compress_rate=compress_rate)\n",
    "    comressed_checkpoint = compress_conv(checkpoint,compress_rate=compress_rate)\n",
    "    model_size_svd.append(cal_model_size(comressed_checkpoint))\n",
    "\n",
    "    Unet.load_state_dict(comressed_checkpoint_)\n",
    "\n",
    "    with torch.no_grad():\n",
    "        Unet.network.eval()\n",
    "        dice_svd_one = []\n",
    "        for val_data in val_loader:\n",
    "            val_image = val_data[\"image\"]\n",
    "            val_label = val_data[\"label\"]\n",
    "            \n",
    "            val_outputs = Unet.network(val_image)\n",
    "            dice_svd_one.append(-calculate_dice(val_outputs,val_label))\n",
    "\n",
    "            print(\"finish\",val_data['image_meta_dict']['filename_or_obj'],compress_rate)\n",
    "\n",
    "        dice_svd[str(compress_rate)]=dice_svd_one\n"
   ]
  },
  {
   "cell_type": "code",
   "execution_count": 34,
   "metadata": {},
   "outputs": [],
   "source": [
    "# compress_tt = {\n",
    "#             'dice_tt': dice_tt,\n",
    "#             'model_size_tt': model_size_tt,\n",
    "#         }\n",
    "\n",
    "# with open('compress_tt.pickle', 'wb') as f:\n",
    "#     # Pickle the 'data' dictionary using the highest protocol available.\n",
    "#     pickle.dump(compress_tt, f, pickle.HIGHEST_PROTOCOL)\n",
    "\n",
    "# with open(os.path.join('compress_tt.pickle'), 'rb') as f:\n",
    "#     # The protocol version used is detected automatically, so we do not\n",
    "#     # have to specify it.\n",
    "#     compress_tt = pickle.load(f)\n",
    "\n",
    "# compress_svd = {\n",
    "#             'dice_svd': compress_svd['dice_svd'],\n",
    "#             'model_size_svd': compress_svd['model_size_svd'],\n",
    "#         }\n",
    "\n",
    "# with open('compress_svd.pickle', 'wb') as f:\n",
    "#     # Pickle the 'data' dictionary using the highest protocol available.\n",
    "#     pickle.dump(compress_svd, f, pickle.HIGHEST_PROTOCOL)\n",
    "\n",
    "# with open(os.path.join('compress_svd.pickle'), 'rb') as f:\n",
    "#     # The protocol version used is detected automatically, so we do not\n",
    "#     # have to specify it.\n",
    "#     compress_svd = pickle.load(f)"
   ]
  },
  {
   "cell_type": "code",
   "execution_count": 31,
   "metadata": {},
   "outputs": [
    {
     "name": "stdout",
     "output_type": "stream",
     "text": [
      "1.0 tensor(0.6654)\n",
      "0.9 tensor(0.6635)\n",
      "0.8 tensor(0.6632)\n",
      "0.7 tensor(0.6589)\n",
      "0.6 tensor(0.6462)\n",
      "0.5 tensor(0.6343)\n",
      "0.4 tensor(0.5506)\n",
      "0.3 tensor(0.2595)\n",
      "0.2 tensor(0.0317)\n",
      "0.1 tensor(0.0472)\n",
      "0.0 tensor(0.0480)\n"
     ]
    }
   ],
   "source": [
    "for i in compress_svd['dice_svd'].keys():\n",
    "    print(i,torch.tensor(compress_svd['dice_svd'][i]).mean())"
   ]
  },
  {
   "cell_type": "code",
   "execution_count": 33,
   "metadata": {},
   "outputs": [
    {
     "data": {
      "text/plain": [
       "[181312856,\n",
       " 102438412,\n",
       " 71575624,\n",
       " 51510268,\n",
       " 37179572,\n",
       " 26529600,\n",
       " 18350380,\n",
       " 11979696,\n",
       " 6932496,\n",
       " 3038016,\n",
       " 257680]"
      ]
     },
     "execution_count": 33,
     "metadata": {},
     "output_type": "execute_result"
    }
   ],
   "source": [
    "compress_svd['model_size_svd'] "
   ]
  },
  {
   "cell_type": "code",
   "execution_count": 35,
   "metadata": {},
   "outputs": [],
   "source": [
    "# torch.tensor(compress_tt['dice_tt']['0.5'])-torch.tensor(dice_svd['0.5'])"
   ]
  },
  {
   "cell_type": "code",
   "execution_count": 16,
   "metadata": {},
   "outputs": [],
   "source": [
    "comressed_checkpoint = compress_conv(checkpoint,compress_rate=0.7)\n",
    "comressed_checkpoint_ = compress_conv_(checkpoint,compress_rate=0.7)"
   ]
  },
  {
   "cell_type": "code",
   "execution_count": 25,
   "metadata": {},
   "outputs": [
    {
     "data": {
      "text/plain": [
       "11"
      ]
     },
     "execution_count": 25,
     "metadata": {},
     "output_type": "execute_result"
    }
   ],
   "source": [
    "'seg_outputs'.__len__()"
   ]
  },
  {
   "cell_type": "code",
   "execution_count": 11,
   "metadata": {},
   "outputs": [],
   "source": [
    "# i = 0\n",
    "# for regex in checkpoint.keys():\n",
    "#     if regex[-6:]==\"weight\" and regex[-11:-6]!='norm.' and regex[0:11]!='seg_outputs':\n",
    "#         shape=checkpoint[regex].shape\n",
    "#         print(regex)\n",
    "#         print(shape)\n",
    "#         i = i+1\n",
    "#         # max = shape[0]\n",
    "#         # min = shape[0]\n",
    "#         # for s in shape:\n",
    "#         #     if s > max:\n",
    "#         #         max = s\n",
    "#         #     if s < min:\n",
    "#         #         min = s\n",
    "#         # print(checkpoint[regex].view(-1,max*min).shape)\n",
    "# i"
   ]
  },
  {
   "cell_type": "code",
   "execution_count": null,
   "metadata": {},
   "outputs": [],
   "source": [
    "# for i in comressed_checkpoint['conv_blocks_localization.0.0.blocks.0.conv.weight']:\n",
    "#     print(i.shape)"
   ]
  },
  {
   "cell_type": "code",
   "execution_count": 23,
   "metadata": {},
   "outputs": [
    {
     "data": {
      "text/plain": [
       "123035136"
      ]
     },
     "execution_count": 23,
     "metadata": {},
     "output_type": "execute_result"
    }
   ],
   "source": [
    "cal_model_size(checkpoint)"
   ]
  },
  {
   "cell_type": "code",
   "execution_count": 12,
   "metadata": {},
   "outputs": [],
   "source": [
    "# for regex in checkpoint.keys():\n",
    "#     if regex[-6:]==\"weight\" and regex[-11:-6]!='norm.':\n",
    "#             print(regex)"
   ]
  },
  {
   "cell_type": "code",
   "execution_count": 22,
   "metadata": {},
   "outputs": [
    {
     "data": {
      "text/plain": [
       "torch.Size([1, 1, 40, 224, 224])"
      ]
     },
     "execution_count": 22,
     "metadata": {},
     "output_type": "execute_result"
    }
   ],
   "source": [
    "val_image.shape"
   ]
  },
  {
   "cell_type": "code",
   "execution_count": 55,
   "metadata": {},
   "outputs": [],
   "source": [
    "tl.set_backend('pytorch')\n",
    "\n",
    "dice_tt = []\n",
    "model_size_tt = []\n",
    "test_val_data['image_meta_dict']['filename_or_obj']\n",
    "\n",
    "for compress_rate in np.array(range(10,-1,-1))/10:\n",
    "    comressed_checkpoint_ = compress_conv_tt_(checkpoint,compress_rate=compress_rate)\n",
    "    comressed_checkpoint = compress_conv_tt(checkpoint,compress_rate=compress_rate)\n",
    "    Unet.load_state_dict(comressed_checkpoint_)\n",
    "    with torch.no_grad():\n",
    "        predict = Unet.network(val_image[None,0].to('cpu'))\n",
    "        dice_tt.append(-calculate_dice(predict,val_label))\n",
    "        model_size_tt.append(cal_model_size(comressed_checkpoint))\n",
    "    print(\"finish\",compress_rate)"
   ]
  },
  {
   "cell_type": "code",
   "execution_count": 12,
   "metadata": {},
   "outputs": [
    {
     "name": "stdout",
     "output_type": "stream",
     "text": [
      "model has been loaded\n",
      "finish 0.0\n",
      "model has been loaded\n",
      "finish 0.1\n",
      "model has been loaded\n",
      "finish 0.2\n",
      "model has been loaded\n",
      "finish 0.3\n",
      "model has been loaded\n",
      "finish 0.4\n",
      "model has been loaded\n",
      "finish 0.5\n",
      "model has been loaded\n",
      "finish 0.6\n",
      "model has been loaded\n",
      "finish 0.7\n",
      "model has been loaded\n",
      "finish 0.8\n",
      "model has been loaded\n",
      "finish 0.9\n",
      "model has been loaded\n",
      "finish 1.0\n"
     ]
    }
   ],
   "source": [
    "dice_svd = []\n",
    "model_size_svd = []\n",
    "test_val_data['image_meta_dict']['filename_or_obj']\n",
    "for compress_rate in np.array(range(0,11))/10:\n",
    "    comressed_checkpoint_ = compress_conv_(checkpoint,compress_rate=compress_rate,mode='maxmin')\n",
    "    comressed_checkpoint = compress_conv(checkpoint,compress_rate=compress_rate,mode='maxmin')\n",
    "    Unet.load_state_dict(comressed_checkpoint_)\n",
    "    with torch.no_grad():\n",
    "        predict = Unet.network(val_image[None,0].to('cpu'))\n",
    "        dice_svd.append(-calculate_dice(predict,val_label))\n",
    "        model_size_svd.append(cal_model_size(comressed_checkpoint))\n",
    "    print(\"finish\",compress_rate)"
   ]
  },
  {
   "cell_type": "code",
   "execution_count": 46,
   "metadata": {},
   "outputs": [
    {
     "data": {
      "text/plain": [
       "dict_keys(['1.0', '0.9', '0.8', '0.7', '0.6', '0.5', '0.4', '0.3', '0.2', '0.1', '0.0'])"
      ]
     },
     "execution_count": 46,
     "metadata": {},
     "output_type": "execute_result"
    }
   ],
   "source": [
    "compress_svd['dice_svd'].keys()"
   ]
  },
  {
   "cell_type": "code",
   "execution_count": 57,
   "metadata": {},
   "outputs": [
    {
     "data": {
      "image/png": "[encoded data removed]",
      "text/plain": [
       "<Figure size 1296x432 with 3 Axes>"
      ]
     },
     "metadata": {
      "needs_background": "light"
     },
     "output_type": "display_data"
    }
   ],
   "source": [
    "import matplotlib.pyplot as plt\n",
    "original_size = cal_model_size(checkpoint)\n",
    "\n",
    "model_size_svd = compress_svd['model_size_svd'] \n",
    "dice_svd = []\n",
    "for i in compress_svd['dice_svd'].keys():\n",
    "    dice_svd.append(torch.tensor(compress_svd['dice_svd'][i]).mean()) \n",
    "\n",
    "model_size_tt = compress_tt['model_size_tt'] \n",
    "dice_tt = []\n",
    "for i in compress_tt['dice_tt'].keys():\n",
    "    dice_tt.append(torch.tensor(compress_tt['dice_tt'][i]).mean()) \n",
    "\n",
    "\n",
    "plt.figure(\"train\", (18, 6))\n",
    "plt.subplot(1, 3, 3)\n",
    "# plt.title(\"Dice Coefficient\")\n",
    "# x = [i + 1 for i in range(len(epoch_train_loss_all),350)]\n",
    "x = [i/10 for i in range(10,-1,-1)]\n",
    "y1 = [i.numpy() for i in dice_svd]\n",
    "y2 = [i.numpy() for i in dice_tt]\n",
    "# y3 = [i.numpy() for i in dice_svd_0]\n",
    "# y1 = [i/original_size for i in model_size_svd]\n",
    "\n",
    "plt.xlabel(\"Percentage of Singular values\")\n",
    "plt.ylabel(\"Dice Coefficient\")\n",
    "plt.plot(x, y1,'darkgray',label='SVD')\n",
    "plt.plot(x, y2, 'black',label='Tensor train')\n",
    "# plt.plot(x, y3, 'black',label='dice_svd_0')\n",
    "plt.legend()\n",
    "\n",
    "plt.subplot(1, 3, 2)\n",
    "# plt.title(\"Model Size\")\n",
    "# x = [i + 1 for i in range(len(epoch_train_loss_all),350)]\n",
    "x = [i/10 for i in range(10,-1,-1)]\n",
    "y1 = [i/original_size for i in model_size_svd]\n",
    "y2 = [i/original_size for i in model_size_tt]\n",
    "# y3 = [i/original_size for i in model_size_svd_0]\n",
    "# y2 = [i.numpy() for i in dice_svd]\n",
    "\n",
    "plt.xlabel(\"Percentage of Singular values\")\n",
    "plt.ylabel(\"Model Size\")\n",
    "plt.plot(x, y1,'darkgray',label='SVD')\n",
    "plt.plot(x, y2, 'black',label='Tensor train')\n",
    "# plt.plot(x, y3, 'black',label='model_size_svd_0')\n",
    "plt.legend()\n",
    "\n",
    "plt.subplot(1, 3, 1)\n",
    "# plt.title(\"Dice/Size\")\n",
    "# x = [i + 1 for i in range(len(epoch_train_loss_all),350)]\n",
    "x1 = [i/original_size for i in model_size_svd]\n",
    "y1 = [i.numpy() for i in dice_svd]\n",
    "x2 = [i/original_size for i in model_size_tt]\n",
    "y2 = [i.numpy() for i in dice_tt]\n",
    "plt.xlabel(\"Model Size\")\n",
    "plt.ylabel(\"Dice Coefficient\")\n",
    "plt.plot(x1, y1,'darkgray',label='SVD')\n",
    "plt.plot(x2, y2, 'black',label='Tensor train')\n",
    "plt.legend()\n",
    "plt.savefig('compress_final.svg')"
   ]
  },
  {
   "cell_type": "code",
   "execution_count": 156,
   "metadata": {},
   "outputs": [
    {
     "name": "stdout",
     "output_type": "stream",
     "text": [
      "model has been loaded\n"
     ]
    },
    {
     "data": {
      "text/plain": [
       "tensor(0.7412)"
      ]
     },
     "execution_count": 156,
     "metadata": {},
     "output_type": "execute_result"
    }
   ],
   "source": [
    "# predict\n",
    "Unet.load_state_dict(checkpoint)\n",
    "import gc\n",
    "gc.collect()\n",
    "with torch.no_grad():\n",
    "    predict_2 = Unet.network(val_image[None,0].to('cpu'))\n",
    "-calculate_dice(predict_2[0],val_label)"
   ]
  },
  {
   "cell_type": "code",
   "execution_count": 157,
   "metadata": {},
   "outputs": [
    {
     "name": "stdout",
     "output_type": "stream",
     "text": [
      "model has been loaded\n"
     ]
    },
    {
     "data": {
      "text/plain": [
       "tensor(0.7060)"
      ]
     },
     "execution_count": 157,
     "metadata": {},
     "output_type": "execute_result"
    }
   ],
   "source": [
    "# compressed\n",
    "Unet.load_state_dict(comressed_checkpoint_)\n",
    "import gc\n",
    "gc.collect()\n",
    "with torch.no_grad():\n",
    "    predict = Unet.network(val_image[None,0].to('cpu'))\n",
    "-calculate_dice(predict[0],val_label)"
   ]
  },
  {
   "cell_type": "code",
   "execution_count": 42,
   "metadata": {},
   "outputs": [
    {
     "data": {
      "text/plain": [
       "torch.Size([1, 1, 40, 224, 224])"
      ]
     },
     "execution_count": 42,
     "metadata": {},
     "output_type": "execute_result"
    }
   ],
   "source": [
    "AsDiscrete(to_onehot=False,argmax=True)(predict[0]).shape"
   ]
  },
  {
   "cell_type": "code",
   "execution_count": 180,
   "metadata": {},
   "outputs": [
    {
     "data": {
      "image/png": "[encoded data removed]",
      "text/plain": [
       "<Figure size 576x576 with 9 Axes>"
      ]
     },
     "metadata": {
      "needs_background": "light"
     },
     "output_type": "display_data"
    }
   ],
   "source": [
    "import matplotlib.pyplot as plt\n",
    "# slice = 2\n",
    "row = 3\n",
    "column = 3\n",
    "# for slice in range(0,40,10):\n",
    "#     # plt.figure(\"check\", (12, 6))\n",
    "#     plt.subplot(row, column, 1)\n",
    "#     plt.imshow(val_label.squeeze().permute(0,2,1)[slice].cpu().detach().numpy())\n",
    "\n",
    "#     plt.subplot(row, column, 2)\n",
    "#     plt.imshow(AsDiscrete(to_onehot=False,argmax=True)(predict[0]).squeeze().permute(0,2,1)[slice].cpu().detach().numpy())\n",
    "\n",
    "#     plt.subplot(row, column, 3)\n",
    "#     plt.imshow(AsDiscrete(to_onehot=False,argmax=True)(predict_2[0]).squeeze().permute(0,2,1)[slice].cpu().detach().numpy())\n",
    "#     # plt.show()\n",
    "slice=12\n",
    "plt.figure(\"check\", (8, 8))\n",
    "\n",
    "plt.subplot(row, column, 1)\n",
    "# plt.axis('off') \n",
    "plt.title(\"Label\")\n",
    "plt.imshow(val_label.squeeze().permute(0,1,2)[slice].cpu().detach().numpy(),cmap='Greys',origin='lower')\n",
    "\n",
    "plt.subplot(row, column, 2)\n",
    "# plt.axis('off') \n",
    "plt.title(\"Predict\")\n",
    "plt.imshow(AsDiscrete(to_onehot=False,argmax=True)(predict_2[0]).squeeze().permute(0,1,2)[slice].cpu().detach().numpy(),'Greys',origin='lower')\n",
    "\n",
    "plt.subplot(row, column, 3)\n",
    "# plt.axis('off') \n",
    "plt.title(\"Compressed predict\")\n",
    "plt.imshow(AsDiscrete(to_onehot=False,argmax=True)(predict[0]).squeeze().permute(0,1,2)[slice].cpu().detach().numpy(),'Greys',origin='lower')\n",
    "\n",
    "for i in range(row-1):\n",
    "    plt.subplot(row, column, i*3+4)\n",
    "    # plt.axis('off') \n",
    "    plt.imshow(val_label.squeeze().permute(0,1,2)[slice+(i+1)*slice].cpu().detach().numpy(),'Greys',origin='lower')\n",
    "\n",
    "    plt.subplot(row, column, i*3+5)\n",
    "    # plt.axis('off') \n",
    "    plt.imshow(AsDiscrete(to_onehot=False,argmax=True)(predict_2[0]).squeeze().permute(0,1,2)[slice+(i+1)*slice].cpu().detach().numpy(),'Greys',origin='lower')\n",
    "\n",
    "    plt.subplot(row, column, i*3+6)\n",
    "    # plt.axis('off') \n",
    "    plt.imshow(AsDiscrete(to_onehot=False,argmax=True)(predict[0]).squeeze().permute(0,1,2)[slice+(i+1)*slice].cpu().detach().numpy(),'Greys',origin='lower')\n",
    "    plt.savefig('compress_0.svg')"
   ]
  },
  {
   "cell_type": "code",
   "execution_count": 164,
   "metadata": {},
   "outputs": [
    {
     "data": {
      "text/plain": [
       "tensor([[0., 0., 0.,  ..., 0., 0., 0.],\n",
       "        [0., 0., 0.,  ..., 0., 0., 0.],\n",
       "        [0., 0., 0.,  ..., 0., 0., 0.],\n",
       "        ...,\n",
       "        [0., 0., 0.,  ..., 0., 0., 0.],\n",
       "        [0., 0., 0.,  ..., 0., 0., 0.],\n",
       "        [0., 0., 0.,  ..., 0., 0., 0.]])"
      ]
     },
     "execution_count": 164,
     "metadata": {},
     "output_type": "execute_result"
    }
   ],
   "source": [
    "val_label.squeeze().permute(0,1,2)[10]"
   ]
  },
  {
   "cell_type": "code",
   "execution_count": 178,
   "metadata": {},
   "outputs": [
    {
     "data": {
      "text/plain": [
       "<matplotlib.image.AxesImage at 0x1276345efc8>"
      ]
     },
     "execution_count": 178,
     "metadata": {},
     "output_type": "execute_result"
    },
    {
     "data": {
      "image/png": "[encoded data removed]",
      "text/plain": [
       "<Figure size 432x288 with 1 Axes>"
      ]
     },
     "metadata": {
      "needs_background": "light"
     },
     "output_type": "display_data"
    }
   ],
   "source": [
    "plt.imshow(val_label.squeeze().permute(0,1,2)[12].cpu().detach().numpy(),'Greys',origin='lower')\n"
   ]
  },
  {
   "cell_type": "code",
   "execution_count": null,
   "metadata": {},
   "outputs": [],
   "source": [
    "# comressed_checkpoint_numpy = convert_numpy(comressed_checkpoint)\n",
    "# torch.save(comressed_checkpoint_numpy,os.path.join(\"compressed_model.pth\"))"
   ]
  }
 ],
 "metadata": {
  "interpreter": {
   "hash": "b778da86b358064d3e4fc70217101fd293ff5d14eedba34accbacc2158ee2fd2"
  },
  "kernelspec": {
   "display_name": "Python 3.7.9 64-bit ('alternative': conda)",
   "name": "python3"
  },
  "language_info": {
   "name": "python",
   "version": ""
  },
  "orig_nbformat": 2
 },
 "nbformat": 4,
 "nbformat_minor": 2
}
